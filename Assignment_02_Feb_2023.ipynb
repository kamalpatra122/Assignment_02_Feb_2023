{
 "cells": [
  {
   "cell_type": "code",
   "execution_count": 1,
   "id": "f40c9cf9-79ad-4297-848f-cccde8a52f9e",
   "metadata": {},
   "outputs": [],
   "source": [
    "#Q1.  Explain with an example each when to use a for loop and a while loop."
   ]
  },
  {
   "cell_type": "code",
   "execution_count": 2,
   "id": "250ae3d6-7f5c-4dcb-9895-f07469b2c07a",
   "metadata": {},
   "outputs": [],
   "source": [
    "#Answer 1"
   ]
  },
  {
   "cell_type": "code",
   "execution_count": 4,
   "id": "7c050ed3-fe5a-416f-8e20-e413d459a7ea",
   "metadata": {},
   "outputs": [
    {
     "data": {
      "text/plain": [
       "'For Loop'"
      ]
     },
     "execution_count": 4,
     "metadata": {},
     "output_type": "execute_result"
    }
   ],
   "source": [
    "\"For Loop\""
   ]
  },
  {
   "cell_type": "code",
   "execution_count": 23,
   "id": "62774eb7-b88c-44bf-a3b8-68331493ee1a",
   "metadata": {},
   "outputs": [
    {
     "data": {
      "text/plain": [
       "'A for loop is typically used when you know the number of iterations in advance or when you want to iterate over a sequence of elements.\\nIt has a specific syntax that includes an initialization, a condition, and an increment or decrement statement'"
      ]
     },
     "execution_count": 23,
     "metadata": {},
     "output_type": "execute_result"
    }
   ],
   "source": [
    "'''A for loop is typically used when you know the number of iterations in advance or when you want to iterate over a sequence of elements.\n",
    "It has a specific syntax that includes an initialization, a condition, and an increment or decrement statement'''"
   ]
  },
  {
   "cell_type": "code",
   "execution_count": 10,
   "id": "88f9f8b9-62fb-4fd1-9de8-3b1178ccbe83",
   "metadata": {},
   "outputs": [
    {
     "name": "stdout",
     "output_type": "stream",
     "text": [
      "1\n",
      "2\n",
      "3\n",
      "4\n",
      "5\n"
     ]
    }
   ],
   "source": [
    "# Example 1: Printing numbers using a for loop\n",
    "for i in range(1, 6):\n",
    "    print(i)"
   ]
  },
  {
   "cell_type": "code",
   "execution_count": 11,
   "id": "27a4ca79-4d77-40e6-a51e-8a9d969960dc",
   "metadata": {},
   "outputs": [
    {
     "data": {
      "text/plain": [
       "'While Loop:'"
      ]
     },
     "execution_count": 11,
     "metadata": {},
     "output_type": "execute_result"
    }
   ],
   "source": [
    "'While Loop:'"
   ]
  },
  {
   "cell_type": "code",
   "execution_count": 12,
   "id": "c67265b3-23fa-4d6e-a9a6-18a5844b100c",
   "metadata": {},
   "outputs": [
    {
     "data": {
      "text/plain": [
       "'A while loop is useful when you want to repeat a block of code until a certain condition is met. It keeps executing the loop as long as the condition remains true.'"
      ]
     },
     "execution_count": 12,
     "metadata": {},
     "output_type": "execute_result"
    }
   ],
   "source": [
    "'A while loop is useful when you want to repeat a block of code until a certain condition is met. It keeps executing the loop as long as the condition remains true.'"
   ]
  },
  {
   "cell_type": "code",
   "execution_count": 13,
   "id": "1db0ef96-b8fe-4b1f-94b1-7ebdb08f3e2e",
   "metadata": {},
   "outputs": [
    {
     "name": "stdout",
     "output_type": "stream",
     "text": [
      "5\n",
      "4\n",
      "3\n",
      "2\n",
      "1\n"
     ]
    }
   ],
   "source": [
    "# Example 2: Counting down using a while loop\n",
    "count = 5\n",
    "while count > 0:\n",
    "    print(count)\n",
    "    count -= 1\n"
   ]
  },
  {
   "cell_type": "code",
   "execution_count": null,
   "id": "2716ec26-e329-464f-870d-0848d971c01d",
   "metadata": {},
   "outputs": [],
   "source": []
  },
  {
   "cell_type": "code",
   "execution_count": 16,
   "id": "a73b3c28-3823-46bf-aa41-d9321226e24d",
   "metadata": {},
   "outputs": [],
   "source": [
    "#Q2.  Write a python program to print the sum and product of the first 10 natural numbers using for and while loop."
   ]
  },
  {
   "cell_type": "code",
   "execution_count": 17,
   "id": "3b1638a4-643b-4d59-a474-831cdb3a064f",
   "metadata": {},
   "outputs": [
    {
     "data": {
      "text/plain": [
       "'Answer 2'"
      ]
     },
     "execution_count": 17,
     "metadata": {},
     "output_type": "execute_result"
    }
   ],
   "source": [
    "\"Answer 2\""
   ]
  },
  {
   "cell_type": "code",
   "execution_count": 18,
   "id": "9e2e5b37-b1d6-4466-a2e8-49453f022d5f",
   "metadata": {},
   "outputs": [],
   "source": [
    "#Using a for loop:"
   ]
  },
  {
   "cell_type": "code",
   "execution_count": 19,
   "id": "f4432d0f-91a5-4aad-9e90-a2b41955d2a7",
   "metadata": {},
   "outputs": [
    {
     "name": "stdout",
     "output_type": "stream",
     "text": [
      "Using for loop:\n",
      "Sum: 55\n",
      "Product: 3628800\n"
     ]
    }
   ],
   "source": [
    "# Using for loop\n",
    "sum = 0\n",
    "product = 1\n",
    "\n",
    "for i in range(1, 11):\n",
    "    sum += i\n",
    "    product *= i\n",
    "\n",
    "print(\"Using for loop:\")\n",
    "print(\"Sum:\", sum)\n",
    "print(\"Product:\", product)"
   ]
  },
  {
   "cell_type": "code",
   "execution_count": 20,
   "id": "7fffc0fe-8ab7-4af4-b778-924e769ebe64",
   "metadata": {},
   "outputs": [],
   "source": [
    "#Using a while loop:"
   ]
  },
  {
   "cell_type": "code",
   "execution_count": 21,
   "id": "b65a4b6f-746a-420b-95aa-b34ccc120a78",
   "metadata": {},
   "outputs": [
    {
     "name": "stdout",
     "output_type": "stream",
     "text": [
      "Using while loop:\n",
      "Sum: 55\n",
      "Product: 3628800\n"
     ]
    }
   ],
   "source": [
    "# Using while loop\n",
    "sum = 0\n",
    "product = 1\n",
    "i = 1\n",
    "\n",
    "while i <= 10:\n",
    "    sum += i\n",
    "    product *= i\n",
    "    i += 1\n",
    "\n",
    "print(\"Using while loop:\")\n",
    "print(\"Sum:\", sum)\n",
    "print(\"Product:\", product)\n"
   ]
  },
  {
   "cell_type": "code",
   "execution_count": null,
   "id": "3820fac1-51de-48cb-90c1-a51471e7165c",
   "metadata": {},
   "outputs": [],
   "source": []
  },
  {
   "cell_type": "code",
   "execution_count": 22,
   "id": "bb339e00-eae5-4410-93c5-294722194102",
   "metadata": {},
   "outputs": [
    {
     "data": {
      "text/plain": [
       "'Q3. Create a python program to compute the electricity bill for a household.\\n The per-unit charges in rupees are as follows: For the first 100 units, the user will be charged Rs. 4.5 per\\nunit, for the next 100 units, the user will be charged Rs. 6 per unit, and for the next 100 units, the user will\\nbe charged Rs. 10 per unit, After 300 units and above the user will be charged Rs. 20 per unit.\\n\\n\\nYou are required to take the units of electricity consumed in a month from the user as input.'"
      ]
     },
     "execution_count": 22,
     "metadata": {},
     "output_type": "execute_result"
    }
   ],
   "source": [
    "'''Q3. Create a python program to compute the electricity bill for a household.\n",
    " The per-unit charges in rupees are as follows: For the first 100 units, the user will be charged Rs. 4.5 per\n",
    "unit, for the next 100 units, the user will be charged Rs. 6 per unit, and for the next 100 units, the user will\n",
    "be charged Rs. 10 per unit, After 300 units and above the user will be charged Rs. 20 per unit.\n",
    "\n",
    "\n",
    "You are required to take the units of electricity consumed in a month from the user as input.'''"
   ]
  },
  {
   "cell_type": "code",
   "execution_count": 24,
   "id": "cbea98f9-8bf6-4a62-b409-9fe7f5eb9bb1",
   "metadata": {},
   "outputs": [
    {
     "data": {
      "text/plain": [
       "'Answer 3 :'"
      ]
     },
     "execution_count": 24,
     "metadata": {},
     "output_type": "execute_result"
    }
   ],
   "source": [
    "'Answer 3 :'"
   ]
  },
  {
   "cell_type": "code",
   "execution_count": 26,
   "id": "3236ff25-1381-4e11-9937-b1fc25f4be23",
   "metadata": {},
   "outputs": [
    {
     "name": "stdin",
     "output_type": "stream",
     "text": [
      "Enter the units of electricity consumed:  310\n"
     ]
    },
    {
     "name": "stdout",
     "output_type": "stream",
     "text": [
      "Total electricity bill: 2250.0\n"
     ]
    }
   ],
   "source": [
    "# Take input from the user for units consumed\n",
    "units = int(input(\"Enter the units of electricity consumed: \"))\n",
    "\n",
    "# Initialize variables\n",
    "bill = 0\n",
    "\n",
    "# Calculate the bill based on the given conditions\n",
    "if units <= 100:\n",
    "    bill = units * 4.5\n",
    "elif units <= 200:\n",
    "    bill = 100 * 4.5 + (units - 100) * 6\n",
    "elif units <= 300:\n",
    "    bill = 100 * 4.5 + 100 * 6 + (units - 200) * 10\n",
    "else:\n",
    "    bill = 100 * 4.5 + 100 * 6 + 100 * 10 + (units - 300) * 20\n",
    "\n",
    "# Print the total electricity bill\n",
    "print(\"Total electricity bill:\", bill)"
   ]
  },
  {
   "cell_type": "code",
   "execution_count": 27,
   "id": "9bf20897-2781-43d9-8222-174b4dacb73f",
   "metadata": {},
   "outputs": [
    {
     "data": {
      "text/plain": [
       "'Q4. Create a list of numbers from 1 to 100. Use for loop and while loop to calculate the cube of each\\nnumber and if the cube of that number is divisible by 4 or 5 then append that number in a list and print\\nthat list.'"
      ]
     },
     "execution_count": 27,
     "metadata": {},
     "output_type": "execute_result"
    }
   ],
   "source": [
    "'''Q4. Create a list of numbers from 1 to 100. Use for loop and while loop to calculate the cube of each\n",
    "number and if the cube of that number is divisible by 4 or 5 then append that number in a list and print\n",
    "that list.'''"
   ]
  },
  {
   "cell_type": "code",
   "execution_count": 28,
   "id": "aac1b101-cc51-4be7-b881-f0a8c0772ca7",
   "metadata": {},
   "outputs": [
    {
     "data": {
      "text/plain": [
       "'ANSWER 4 :'"
      ]
     },
     "execution_count": 28,
     "metadata": {},
     "output_type": "execute_result"
    }
   ],
   "source": [
    "'ANSWER 4 :'"
   ]
  },
  {
   "cell_type": "code",
   "execution_count": 29,
   "id": "4c5daba3-449e-4f8d-96be-198537c44bed",
   "metadata": {},
   "outputs": [
    {
     "data": {
      "text/plain": [
       "'Using a for loop: '"
      ]
     },
     "execution_count": 29,
     "metadata": {},
     "output_type": "execute_result"
    }
   ],
   "source": [
    "\"Using a for loop: \""
   ]
  },
  {
   "cell_type": "code",
   "execution_count": 30,
   "id": "86558b58-09cb-4dd2-9875-d300f10a7231",
   "metadata": {},
   "outputs": [
    {
     "name": "stdout",
     "output_type": "stream",
     "text": [
      "[2, 4, 5, 6, 8, 10, 12, 14, 15, 16, 18, 20, 22, 24, 25, 26, 28, 30, 32, 34, 35, 36, 38, 40, 42, 44, 45, 46, 48, 50, 52, 54, 55, 56, 58, 60, 62, 64, 65, 66, 68, 70, 72, 74, 75, 76, 78, 80, 82, 84, 85, 86, 88, 90, 92, 94, 95, 96, 98, 100]\n"
     ]
    }
   ],
   "source": [
    "numbers = list(range(1, 101))  # Create a list of numbers from 1 to 100\n",
    "result = []\n",
    "\n",
    "for num in numbers:\n",
    "    cube = num ** 3\n",
    "    if cube % 4 == 0 or cube % 5 == 0:\n",
    "        result.append(num)\n",
    "\n",
    "print(result)"
   ]
  },
  {
   "cell_type": "code",
   "execution_count": 31,
   "id": "5db662d3-6905-42d7-9afe-7d13e6fbd8c4",
   "metadata": {},
   "outputs": [
    {
     "data": {
      "text/plain": [
       "'Using a while loop:'"
      ]
     },
     "execution_count": 31,
     "metadata": {},
     "output_type": "execute_result"
    }
   ],
   "source": [
    "\"Using a while loop:\""
   ]
  },
  {
   "cell_type": "code",
   "execution_count": 32,
   "id": "950d7a45-1ffe-480b-92ad-be8ba96d7f2c",
   "metadata": {},
   "outputs": [
    {
     "name": "stdout",
     "output_type": "stream",
     "text": [
      "[2, 4, 5, 6, 8, 10, 12, 14, 15, 16, 18, 20, 22, 24, 25, 26, 28, 30, 32, 34, 35, 36, 38, 40, 42, 44, 45, 46, 48, 50, 52, 54, 55, 56, 58, 60, 62, 64, 65, 66, 68, 70, 72, 74, 75, 76, 78, 80, 82, 84, 85, 86, 88, 90, 92, 94, 95, 96, 98, 100]\n"
     ]
    }
   ],
   "source": [
    "numbers = list(range(1, 101))  # Create a list of numbers from 1 to 100\n",
    "result = []\n",
    "index = 0\n",
    "\n",
    "while index < len(numbers):\n",
    "    num = numbers[index]\n",
    "    cube = num ** 3\n",
    "    if cube % 4 == 0 or cube % 5 == 0:\n",
    "        result.append(num)\n",
    "    index += 1\n",
    "\n",
    "print(result)"
   ]
  },
  {
   "cell_type": "code",
   "execution_count": null,
   "id": "1f417981-1a24-4826-8a0c-66fc922fc864",
   "metadata": {},
   "outputs": [],
   "source": []
  },
  {
   "cell_type": "code",
   "execution_count": 33,
   "id": "2c6db164-4586-434f-9dc2-085b09e81ba7",
   "metadata": {},
   "outputs": [
    {
     "data": {
      "text/plain": [
       "'Q5.  Write a program to filter count vowels in the below-given string.\\n\\nstring = \"I want to become a data scientist'"
      ]
     },
     "execution_count": 33,
     "metadata": {},
     "output_type": "execute_result"
    }
   ],
   "source": [
    "'''Q5.  Write a program to filter count vowels in the below-given string.\n",
    "\n",
    "string = \"I want to become a data scientist'''"
   ]
  },
  {
   "cell_type": "code",
   "execution_count": 34,
   "id": "ae86941f-c6b1-43cc-b55e-baee42ac1424",
   "metadata": {},
   "outputs": [
    {
     "data": {
      "text/plain": [
       "'ANSWER 5 :'"
      ]
     },
     "execution_count": 34,
     "metadata": {},
     "output_type": "execute_result"
    }
   ],
   "source": [
    "'ANSWER 5 :'"
   ]
  },
  {
   "cell_type": "code",
   "execution_count": 35,
   "id": "a30d3569-c64f-4d79-b201-cda9a99b9e87",
   "metadata": {},
   "outputs": [
    {
     "name": "stdout",
     "output_type": "stream",
     "text": [
      "Number of vowels: 12\n"
     ]
    }
   ],
   "source": [
    "string = \"I want to become a data scientist\"\n",
    "vowels = ['a', 'e', 'i', 'o', 'u']\n",
    "count = 0\n",
    "\n",
    "for char in string:\n",
    "    if char.lower() in vowels:\n",
    "        count += 1\n",
    "\n",
    "print(\"Number of vowels:\", count)"
   ]
  },
  {
   "cell_type": "code",
   "execution_count": null,
   "id": "fb69534b-90ac-4c4b-93d6-97643ec2707e",
   "metadata": {},
   "outputs": [],
   "source": []
  }
 ],
 "metadata": {
  "kernelspec": {
   "display_name": "Python 3 (ipykernel)",
   "language": "python",
   "name": "python3"
  },
  "language_info": {
   "codemirror_mode": {
    "name": "ipython",
    "version": 3
   },
   "file_extension": ".py",
   "mimetype": "text/x-python",
   "name": "python",
   "nbconvert_exporter": "python",
   "pygments_lexer": "ipython3",
   "version": "3.10.8"
  }
 },
 "nbformat": 4,
 "nbformat_minor": 5
}
